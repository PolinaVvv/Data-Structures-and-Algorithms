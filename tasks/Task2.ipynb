{
 "cells": [
  {
   "cell_type": "markdown",
   "id": "arctic-stocks",
   "metadata": {},
   "source": [
    "### Задание №1\n",
    "Массив A состоит из целых положительных чисел длин отрезков. Составьте из трех отрезков такой треугольник, чтобы его периметр был максимально возможным. Если невозможно составить треугольник с положительной площадью функция возвращает 0."
   ]
  },
  {
   "cell_type": "code",
   "execution_count": 1,
   "id": "caring-truck",
   "metadata": {
    "scrolled": false
   },
   "outputs": [
    {
     "name": "stdout",
     "output_type": "stream",
     "text": [
      "Введите кол-во элементов вектора n: 5\n",
      "Введите минмальное значения для генерируемого числа min_lim: 1\n",
      "Введите максимальное значения для генерируемого числа max_limit: 10\n",
      "\n",
      "Исходный вектор:  [1, 6, 5, 8, 10]\n",
      "Максимальный периметр: 24. Его стороны: 10, 8, 6\n"
     ]
    }
   ],
   "source": [
    "import copy\n",
    "import random\n",
    "\n",
    "def maximum_perimeter(array):\n",
    "    MAX = 0\n",
    "    a1, a2, a3 = 0, 0, 0\n",
    "    array = sorted(array, reverse = True)\n",
    "    for i in range(0, 3):\n",
    "        if array[i]+array[i+1] > array[i+2] and array[i]+array[i+2] > array[i+1] and array[i+2]+array[i+1] > array[i] and array[i]+array[i+1]+array[i+2]>MAX:\n",
    "            MAX = array[i] + array[i+1] + array[i+2]\n",
    "            a1, a2, a3 = array[i] , array[i+1] , array[i+2] \n",
    "    if MAX != 0: return \"Максимальный периметр: \" + str(MAX) + \". Его стороны: \" + str(a1) + \", \" + str(a2) + \", \" + str(a3)\n",
    "    else: return 0\n",
    "\n",
    "\n",
    "#ввод значений\n",
    "n = input('Введите кол-во элементов вектора n: ')\n",
    "if n == '':\n",
    "    n = 15\n",
    "min_lim = input('Введите минмальное значения для генерируемого числа min_lim: ')\n",
    "if min_lim == '':\n",
    "    min_lim = -100\n",
    "max_limit = input('Введите максимальное значения для генерируемого числа max_limit: ')\n",
    "if max_limit == '':\n",
    "    max_limit = 100\n",
    "\n",
    "#формирование вектора\n",
    "array  = [0]*int(n)\n",
    "for i in range(int(n)):\n",
    "    array[i] = random.randint(int(min_lim), int(max_limit))\n",
    "\n",
    "#вывод        \n",
    "print()\n",
    "print('Исходный вектор: ', array) \n",
    "print(maximum_perimeter(array))"
   ]
  },
  {
   "cell_type": "markdown",
   "id": "maritime-conversation",
   "metadata": {},
   "source": [
    "### Задание №2\n",
    "Дан массив неотрицательных целых чисел nums. Расположите их в таком порядке, чтобы вместе они образовали максимально возможное число. Замечание: Результат может быть очень большим числом, поэтому представьте его как string, а не integer."
   ]
  },
  {
   "cell_type": "code",
   "execution_count": 2,
   "id": "alert-charm",
   "metadata": {
    "scrolled": false
   },
   "outputs": [
    {
     "name": "stdout",
     "output_type": "stream",
     "text": [
      "Введите кол-во элементов вектора n: 6\n",
      "Введите минмальное значения для генерируемого числа min_lim: 1\n",
      "Введите максимальное значения для генерируемого числа max_limit: 100\n",
      "\n",
      "Итоговый вектор:  [23, 89, 49, 15, 25, 34]\n",
      "Максимальное число:  894934252315\n"
     ]
    }
   ],
   "source": [
    "import random\n",
    "\n",
    "def max_number(array):\n",
    "    def bigger(a, b):\n",
    "        direct = int(str(a) + str(b))\n",
    "        reverse = int(str(b) + str(a))\n",
    "        if direct > reverse:\n",
    "            return True    \n",
    "    \n",
    "    def array_sort(array):\n",
    "        for i in range (len(array) - 1):\n",
    "            bigger_num = i\n",
    "            for j in range(i + 1, len(array)):\n",
    "                if not bigger(array[bigger_num], array[j]):\n",
    "                    bigger_num = j\n",
    "            array[i], array[bigger_num] = array[bigger_num], array[i]\n",
    "    \n",
    "    array_sort(array)\n",
    "    return ''.join(str(n) for n in array)\n",
    "\n",
    "#ввод значений\n",
    "n = input('Введите кол-во элементов вектора n: ')\n",
    "if n == '':\n",
    "    n = 15\n",
    "min_lim = input('Введите минмальное значения для генерируемого числа min_lim: ')\n",
    "if min_lim == '':\n",
    "    min_lim = -100\n",
    "max_limit = input('Введите максимальное значения для генерируемого числа max_limit: ')\n",
    "if max_limit == '':\n",
    "    max_limit = 100\n",
    "\n",
    "#формирование вектора\n",
    "array  = [0]*int(n)\n",
    "for i in range(int(n)):\n",
    "    array[i] = random.randint(int(min_lim), int(max_limit))\n",
    "\n",
    "#вывод        \n",
    "print()\n",
    "print('Итоговый вектор: ', array) \n",
    "print(\"Максимальное число: \", max_number(array))"
   ]
  },
  {
   "cell_type": "markdown",
   "id": "catholic-roots",
   "metadata": {},
   "source": [
    "### Задание №3\n",
    "Дана матрица mat размером m * n, значения целочисленные. Напишите функцию, сортирующую каждую диагональ матрицы по возрастанию и возвращающую получившуюся матрицу."
   ]
  },
  {
   "cell_type": "code",
   "execution_count": 3,
   "id": "cleared-anniversary",
   "metadata": {
    "scrolled": false
   },
   "outputs": [
    {
     "name": "stdout",
     "output_type": "stream",
     "text": [
      "Введите кол-во сторок матрицы n: 4\n",
      "Введите кол-во столбцов матрицы m: 4\n",
      "Введите минмальное значения для генерируемого числа min_lim: 0\n",
      "Введите максимальное значения для генерируемого числа max_limit: 100\n",
      "Итоговая матрица: \n",
      "33 76 75 46 \n",
      "24 17 71 9 \n",
      "14 67 87 45 \n",
      "45 85 86 12 \n",
      "Отсортированная матрица: \n",
      "12 45 9 46 \n",
      "24 17 71 75 \n",
      "14 67 33 76 \n",
      "45 85 86 87 \n"
     ]
    }
   ],
   "source": [
    "from heapq import *\n",
    "import collections\n",
    "\n",
    "def sort_a(array):\n",
    "    new_array = collections.defaultdict(list)\n",
    "    \n",
    "    for row in range (len(array)):\n",
    "        for element in range (len(array[0])):\n",
    "            heappush(new_array[row-element], array[row][element]) # добав. эл. в кучу\n",
    "            \n",
    "    for row in range (len(array)):\n",
    "        for element in range (len(array[0])):\n",
    "            array[row][element] = heappop(new_array[row-element]) # выталкивает и возвращает наименьший элемент\n",
    "            \n",
    "    return array\n",
    "\n",
    "def Output(array):\n",
    "    for row in array:    # делаем перебор всех строк матрицы A\n",
    "        for elem in row: # перебираем все элементы в строке row\n",
    "            print(elem, end = ' ')\n",
    "        print()\n",
    "\n",
    "#ввод значений\n",
    "n = input('Введите кол-во сторок матрицы n: ')\n",
    "if n == '':\n",
    "    n = 50\n",
    "m = input('Введите кол-во столбцов матрицы m: ')\n",
    "if m == '':\n",
    "    m = 50\n",
    "min_lim = input('Введите минмальное значения для генерируемого числа min_lim: ')\n",
    "if min_lim == '':\n",
    "    min_lim = -250\n",
    "max_limit = input('Введите максимальное значения для генерируемого числа max_limit: ')\n",
    "if max_limit == '':\n",
    "    max_limit = 1003\n",
    "\n",
    "#формирование матрицы\n",
    "array  = [ [0]*int(m) for i in range(int(n)) ]\n",
    "for i in range(int(n)):\n",
    "    for j in range(int(m)):\n",
    "        array[i][j] = random.randint(int(min_lim), int(max_limit))\n",
    "        \n",
    "#вывод        \n",
    "print('Итоговая матрица: ')      \n",
    "Output(array)\n",
    "\n",
    "sort_a(array)\n",
    "print('Отсортированная матрица: ')      \n",
    "Output(array)"
   ]
  }
 ],
 "metadata": {
  "kernelspec": {
   "display_name": "Python 3 (ipykernel)",
   "language": "python",
   "name": "python3"
  },
  "language_info": {
   "codemirror_mode": {
    "name": "ipython",
    "version": 3
   },
   "file_extension": ".py",
   "mimetype": "text/x-python",
   "name": "python",
   "nbconvert_exporter": "python",
   "pygments_lexer": "ipython3",
   "version": "3.10.2"
  }
 },
 "nbformat": 4,
 "nbformat_minor": 5
}
