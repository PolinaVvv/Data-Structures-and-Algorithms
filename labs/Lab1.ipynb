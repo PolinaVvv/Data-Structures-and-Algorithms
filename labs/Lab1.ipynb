{
 "cells": [
  {
   "cell_type": "markdown",
   "id": "fifteen-sailing",
   "metadata": {},
   "source": [
    "# Лабораторная работа №1\n",
    "## Выполнил студентка группы БФИ2001 Вострикова П.В."
   ]
  },
  {
   "cell_type": "markdown",
   "id": "particular-syndicate",
   "metadata": {},
   "source": [
    "### Оглавление\n",
    "1. [Задание 1](#Задание-№1)\n",
    "2. [Задание 2](#Задание-№2)\n",
    "3. [Задание 3](#Задание-№3)\n",
    "4. [Вывод](#Вывод)"
   ]
  },
  {
   "cell_type": "markdown",
   "id": "arctic-stocks",
   "metadata": {},
   "source": [
    "### Задание №1\n",
    "<i> Вызвать функцию print() и передать туда строку Hello, World! </i>"
   ]
  },
  {
   "cell_type": "code",
   "execution_count": 1,
   "id": "caring-truck",
   "metadata": {
    "scrolled": true
   },
   "outputs": [
    {
     "name": "stdout",
     "output_type": "stream",
     "text": [
      "Hello, World!\n"
     ]
    }
   ],
   "source": [
    "print('Hello, World!')"
   ]
  },
  {
   "cell_type": "markdown",
   "id": "maritime-conversation",
   "metadata": {},
   "source": [
    "### Задание №2\n",
    "Написать генератор случайных матриц(многомерных), который принимает\n",
    "опциональные параметры <b>m</b>, <b>n</b>, <b>min_limit</b>, <b>max_limit</b>, где <b>m</b> и <b>n</b> указывают размер\n",
    "матрицы, а <b>min_lim</b> и <b>max_lim</b> - минимальное и максимальное значение для\n",
    "генерируемого числа."
   ]
  },
  {
   "cell_type": "code",
   "execution_count": 38,
   "id": "built-contact",
   "metadata": {},
   "outputs": [],
   "source": [
    "import random\n",
    "import time\n",
    "def Output(array):\n",
    "    for row in array:    # делаем перебор всех строк матрицы A\n",
    "        for elem in row: # перебираем все элементы в строке row\n",
    "            print(elem, end = ' ')\n",
    "        print()\n",
    "    return array"
   ]
  },
  {
   "cell_type": "code",
   "execution_count": 40,
   "id": "alert-charm",
   "metadata": {},
   "outputs": [
    {
     "name": "stdout",
     "output_type": "stream",
     "text": [
      "Введите кол-во сторок матрицы n: 4\n",
      "Введите кол-во столбцов матрицы m: 17\n",
      "Введите минмальное значения для генерируемого числа min_lim: -10\n",
      "Введите максимальное значения для генерируемого числа max_limit: 10\n",
      "Итоговая матрица: \n",
      "-1 8 10 4 -9 -1 -8 -1 -4 -1 7 8 10 -4 -1 9 5 \n",
      "9 6 -8 -10 7 6 -9 1 9 -2 3 7 -1 4 -2 3 8 \n",
      "5 0 0 -9 4 -2 -1 7 9 -3 -1 1 3 -8 -4 -2 -10 \n",
      "4 -9 -4 1 -2 -8 9 -3 8 -1 -6 8 0 9 0 2 5 \n",
      "Итоговая матрица:  [[-1, 8, 10, 4, -9, -1, -8, -1, -4, -1, 7, 8, 10, -4, -1, 9, 5], [9, 6, -8, -10, 7, 6, -9, 1, 9, -2, 3, 7, -1, 4, -2, 3, 8], [5, 0, 0, -9, 4, -2, -1, 7, 9, -3, -1, 1, 3, -8, -4, -2, -10], [4, -9, -4, 1, -2, -8, 9, -3, 8, -1, -6, 8, 0, 9, 0, 2, 5]]\n"
     ]
    }
   ],
   "source": [
    "#ввод значений\n",
    "n = input('Введите кол-во сторок матрицы n: ')\n",
    "if n == '':\n",
    "    n = 50\n",
    "m = input('Введите кол-во столбцов матрицы m: ')\n",
    "if m == '':\n",
    "    m = 50\n",
    "min_lim = input('Введите минмальное значения для генерируемого числа min_lim: ')\n",
    "if min_lim == '':\n",
    "    min_lim = -250\n",
    "max_limit = input('Введите максимальное значения для генерируемого числа max_limit: ')\n",
    "if max_limit == '':\n",
    "    max_limit = 1003\n",
    "\n",
    "#формирование матрицы\n",
    "array  = [ [0]*int(m) for i in range(int(n)) ]\n",
    "for i in range(int(n)):\n",
    "    for j in range(int(m)):\n",
    "        array[i][j] = random.randint(int(min_lim), int(max_limit))\n",
    "        \n",
    "#вывод        \n",
    "print('Итоговая матрица: ')      \n",
    "Output(array)\n",
    "    \n",
    "print('Итоговая матрица: ', array) #вывод матрицы в строчку"
   ]
  },
  {
   "cell_type": "markdown",
   "id": "catholic-roots",
   "metadata": {},
   "source": [
    "### Задание №3\n",
    "Реализовать методы сортировки строк числовой матрицы в соответствии с\n",
    "заданием. Оценить время работы каждого алгоритма сортировки и сравнить его со\n",
    "временем стандартной функции сортировки. Испытания проводить на сгенерированных\n",
    "матрицах."
   ]
  },
  {
   "cell_type": "code",
   "execution_count": 41,
   "id": "opposed-creature",
   "metadata": {},
   "outputs": [],
   "source": [
    "import copy\n",
    "Array_Choice = copy.deepcopy(array)\n",
    "Array_insert = copy.deepcopy(array)\n",
    "Array_exchange = copy.deepcopy(array)\n",
    "Array_Shell = copy.deepcopy(array)\n",
    "Array_Fast = copy.deepcopy(array)\n",
    "Array_Tournament = copy.deepcopy(array)\n",
    "Array_Standard = copy.deepcopy(array)"
   ]
  },
  {
   "cell_type": "code",
   "execution_count": 42,
   "id": "cleared-anniversary",
   "metadata": {},
   "outputs": [
    {
     "name": "stdout",
     "output_type": "stream",
     "text": [
      "--- 0.207 ms ---\n",
      "Исходная матрица: \n",
      "-1 8 10 4 -9 -1 -8 -1 -4 -1 7 8 10 -4 -1 9 5 \n",
      "9 6 -8 -10 7 6 -9 1 9 -2 3 7 -1 4 -2 3 8 \n",
      "5 0 0 -9 4 -2 -1 7 9 -3 -1 1 3 -8 -4 -2 -10 \n",
      "4 -9 -4 1 -2 -8 9 -3 8 -1 -6 8 0 9 0 2 5 \n",
      "Матрица, отсортированная методом выбора: \n",
      "-10 -9 -8 -4 -3 -2 -2 -1 -1 0 0 1 3 4 5 7 9 \n",
      "-10 -9 -8 -2 -2 -1 1 3 3 4 6 6 7 7 8 9 9 \n",
      "-9 -8 -6 -4 -3 -2 -1 0 0 1 2 4 5 8 8 9 9 \n",
      "-9 -8 -4 -4 -1 -1 -1 -1 -1 4 5 7 8 8 9 10 10 \n",
      "\n"
     ]
    }
   ],
   "source": [
    "# Сортировка выбором.\n",
    "# Берётся срез массива, в котором минимальный элемент переносят в самый левый угол,\n",
    "# после чего срез уменьшается и цикл повторяется.\n",
    "def selection_sort(array):\n",
    "    for i in range(len(array) - 1):\n",
    "        index_min = i\n",
    "        j = i + 1\n",
    "        while j < len(array):\n",
    "            if array[j] < array[index_min]:\n",
    "                index_min = j\n",
    "            j = j + 1\n",
    "        array[i], array[index_min] = array[index_min], array[i]\n",
    "    return array\n",
    "\n",
    "start_time = time.perf_counter()\n",
    "\n",
    "for row in Array_Choice:\n",
    "    selection_sort(row)\n",
    "selection_sort(Array_Choice)\n",
    "\n",
    "print(\"--- {:.3f} ms ---\".format(((time.perf_counter() - start_time)*1000)))\n",
    "\n",
    "print('Исходная матрица: ')      \n",
    "Output(array)\n",
    "print('Матрица, отсортированная методом выбора: ')\n",
    "Output(Array_Choice)\n",
    "print()"
   ]
  },
  {
   "cell_type": "code",
   "execution_count": 43,
   "id": "roman-silly",
   "metadata": {
    "scrolled": true
   },
   "outputs": [
    {
     "name": "stdout",
     "output_type": "stream",
     "text": [
      "--- 0.251 ms ---\n",
      "Исходная матрица: \n",
      "-1 8 10 4 -9 -1 -8 -1 -4 -1 7 8 10 -4 -1 9 5 \n",
      "9 6 -8 -10 7 6 -9 1 9 -2 3 7 -1 4 -2 3 8 \n",
      "5 0 0 -9 4 -2 -1 7 9 -3 -1 1 3 -8 -4 -2 -10 \n",
      "4 -9 -4 1 -2 -8 9 -3 8 -1 -6 8 0 9 0 2 5 \n",
      "Матрица, отсортированная методом вставки: \n",
      "-10 -9 -8 -4 -3 -2 -2 -1 -1 0 0 1 3 4 5 7 9 \n",
      "-10 -9 -8 -2 -2 -1 1 3 3 4 6 6 7 7 8 9 9 \n",
      "-9 -8 -6 -4 -3 -2 -1 0 0 1 2 4 5 8 8 9 9 \n",
      "-9 -8 -4 -4 -1 -1 -1 -1 -1 4 5 7 8 8 9 10 10 \n",
      "\n"
     ]
    }
   ],
   "source": [
    "# Сортировка вставкой.\n",
    "# Есть отсортированный массив (изначаьно он содержит первый элемент) и несортированный. Первый эл. в несорт. мас. оценивается \n",
    "# так,что мы можем вставить его на свое место в отсортированном подмассиве. Вставка выполняется путем перемещения всех\n",
    "# элементов которые больше, чем новый элемент, на одну позицию вправо. И так до конца.\n",
    "def insertion_sort(array):\n",
    "    for i in range(1, len(array)):\n",
    "        key = array[i]\n",
    "        j = i-1\n",
    "        while j >= 0 and key < array[j] :\n",
    "            array[j+1] = array[j]\n",
    "            j -= 1\n",
    "        array[j+1] = key \n",
    "    return array\n",
    "    \n",
    "start_time = time.perf_counter()\n",
    "\n",
    "for row in Array_insert:\n",
    "    insertion_sort(row)\n",
    "insertion_sort(Array_insert)\n",
    "\n",
    "print(\"--- {:.3f} ms ---\".format(((time.perf_counter() - start_time)*1000)))\n",
    "print('Исходная матрица: ')      \n",
    "Output(array)\n",
    "print('Матрица, отсортированная методом вставки: ')\n",
    "Output(Array_insert)\n",
    "print()"
   ]
  },
  {
   "cell_type": "code",
   "execution_count": 44,
   "id": "vital-implementation",
   "metadata": {},
   "outputs": [
    {
     "name": "stdout",
     "output_type": "stream",
     "text": [
      "--- 0.275 ms ---\n",
      "Исходная матрица: \n",
      "-1 8 10 4 -9 -1 -8 -1 -4 -1 7 8 10 -4 -1 9 5 \n",
      "9 6 -8 -10 7 6 -9 1 9 -2 3 7 -1 4 -2 3 8 \n",
      "5 0 0 -9 4 -2 -1 7 9 -3 -1 1 3 -8 -4 -2 -10 \n",
      "4 -9 -4 1 -2 -8 9 -3 8 -1 -6 8 0 9 0 2 5 \n",
      "Матрица, отсортированная методом обмена: \n",
      "-10 -9 -8 -4 -3 -2 -2 -1 -1 0 0 1 3 4 5 7 9 \n",
      "-10 -9 -8 -2 -2 -1 1 3 3 4 6 6 7 7 8 9 9 \n",
      "-9 -8 -6 -4 -3 -2 -1 0 0 1 2 4 5 8 8 9 9 \n",
      "-9 -8 -4 -4 -1 -1 -1 -1 -1 4 5 7 8 8 9 10 10 \n",
      "\n"
     ]
    }
   ],
   "source": [
    "# Сортировка обменом. || Сортировка пузырьком.\n",
    "# Сравнивается текущий элемент со следующим. Если он больше, то его вправо, а тот - влево. Это всё в двух циклах: \n",
    "# с помощью первого определяется до какого эл. будет идти второй цикл, а во втором, собственно, уже сама сортировка. \n",
    "def exchange_sort(array):\n",
    "    for i in range(len(array)):\n",
    "        for j in range(0, len(array)-i-1):\n",
    "            if array[j] > array[j+1]:\n",
    "                array[j], array[j+1] = array[j+1], array[j]\n",
    "    return array\n",
    "    \n",
    "start_time = time.perf_counter()\n",
    "\n",
    "for row in Array_exchange:\n",
    "    exchange_sort(row)\n",
    "exchange_sort(Array_exchange)\n",
    "\n",
    "print(\"--- {:.3f} ms ---\".format(((time.perf_counter() - start_time)*1000)))\n",
    "print('Исходная матрица: ')      \n",
    "Output(array)\n",
    "print('Матрица, отсортированная методом обмена: ')\n",
    "Output(Array_exchange) \n",
    "print()"
   ]
  },
  {
   "cell_type": "code",
   "execution_count": 45,
   "id": "veterinary-glory",
   "metadata": {},
   "outputs": [
    {
     "name": "stdout",
     "output_type": "stream",
     "text": [
      "--- 0.247 ms ---\n",
      "Исходная матрица: \n",
      "-1 8 10 4 -9 -1 -8 -1 -4 -1 7 8 10 -4 -1 9 5 \n",
      "9 6 -8 -10 7 6 -9 1 9 -2 3 7 -1 4 -2 3 8 \n",
      "5 0 0 -9 4 -2 -1 7 9 -3 -1 1 3 -8 -4 -2 -10 \n",
      "4 -9 -4 1 -2 -8 9 -3 8 -1 -6 8 0 9 0 2 5 \n",
      "Матрица, отсортированная методом Шелла: \n",
      "-10 -9 -8 -4 -3 -2 -2 -1 -1 0 0 1 3 4 5 7 9 \n",
      "-10 -9 -8 -2 -2 -1 1 3 3 4 6 6 7 7 8 9 9 \n",
      "-9 -8 -6 -4 -3 -2 -1 0 0 1 2 4 5 8 8 9 9 \n",
      "-9 -8 -4 -4 -1 -1 -1 -1 -1 4 5 7 8 8 9 10 10 \n",
      "\n"
     ]
    }
   ],
   "source": [
    "# Сортировка Шелла.\n",
    "# Берутся элементы на некотором расстоянии (len(array) // 2) и сравниваются (меняются местами при необходимости)\n",
    "# Затем это расстоянее уменьшается и всё повторяется\n",
    "def shell_sort(array):\n",
    "    inc = len(array) // 2\n",
    "    while inc:\n",
    "        for i, el in enumerate(array): #с помощью enumerate как-бы словарь получаю\n",
    "            while i >= inc and array[i - inc] > el:\n",
    "                array[i] = array[i - inc]\n",
    "                i -= inc\n",
    "            array[i] = el\n",
    "        inc //= 2\n",
    "    \n",
    "start_time = time.perf_counter()\n",
    "\n",
    "for row in Array_Shell:\n",
    "    shell_sort(row)\n",
    "shell_sort(Array_Shell)\n",
    "\n",
    "print(\"--- {:.3f} ms ---\".format(((time.perf_counter() - start_time)*1000)))\n",
    "print('Исходная матрица: ')      \n",
    "Output(array)\n",
    "print('Матрица, отсортированная методом Шелла: ')\n",
    "Output(Array_Shell)\n",
    "print()"
   ]
  },
  {
   "cell_type": "code",
   "execution_count": 52,
   "id": "correct-chaos",
   "metadata": {},
   "outputs": [
    {
     "name": "stdout",
     "output_type": "stream",
     "text": [
      "--- 0.167 ms ---\n",
      "Исходная матрица: \n",
      "-1 8 10 4 -9 -1 -8 -1 -4 -1 7 8 10 -4 -1 9 5 \n",
      "9 6 -8 -10 7 6 -9 1 9 -2 3 7 -1 4 -2 3 8 \n",
      "5 0 0 -9 4 -2 -1 7 9 -3 -1 1 3 -8 -4 -2 -10 \n",
      "4 -9 -4 1 -2 -8 9 -3 8 -1 -6 8 0 9 0 2 5 \n",
      "Матрица, отсортированная методом быстрой сортировки: \n",
      "-1 8 10 4 -9 -1 -8 -1 -4 -1 7 8 10 -4 -1 9 5 \n",
      "9 6 -8 -10 7 6 -9 1 9 -2 3 7 -1 4 -2 3 8 \n",
      "5 0 0 -9 4 -2 -1 7 9 -3 -1 1 3 -8 -4 -2 -10 \n",
      "4 -9 -4 1 -2 -8 9 -3 8 -1 -6 8 0 9 0 2 5 \n",
      "\n"
     ]
    }
   ],
   "source": [
    "# Быстрая сортировка. Начинается с разбиения списка и выбора одного из элементов в качестве опорного. \n",
    "# А всё остальное передвигаем так, чтобы этот элемент встал на своё место. Все элементы меньше него перемещаются влево, \n",
    "# а равные и большие элементы перемещаются вправо.\n",
    "\n",
    "def quick_sort(array):\n",
    "    if len(array) <= 1:\n",
    "        return array\n",
    "    else:\n",
    "        x = array[len(array) // 2]\n",
    "        less, equal, bigger = [], [], []\n",
    "        for i in array:\n",
    "            if i < x: less.append(i)\n",
    "            elif i > x: bigger.append(i)\n",
    "            else: equal.append(i)\n",
    "    return quick_sort(less) + equal + quick_sort(bigger)\n",
    "    \n",
    "start_time = time.perf_counter()\n",
    "\n",
    "for row in Array_Fast:\n",
    "    quick_sort(row)\n",
    "quick_sort(Array_Fast)\n",
    "    \n",
    "print(\"--- {:.3f} ms ---\".format(((time.perf_counter() - start_time)*1000)))\n",
    "print('Исходная матрица: ')      \n",
    "Output(array)\n",
    "print('Матрица, отсортированная методом быстрой сортировки: ')\n",
    "Output(Array_Fast)\n",
    "print()"
   ]
  },
  {
   "cell_type": "code",
   "execution_count": 47,
   "id": "french-czech",
   "metadata": {
    "scrolled": true
   },
   "outputs": [
    {
     "name": "stdout",
     "output_type": "stream",
     "text": [
      "--- 0.210 ms ---\n",
      "Исходная матрица: \n",
      "-1 8 10 4 -9 -1 -8 -1 -4 -1 7 8 10 -4 -1 9 5 \n",
      "9 6 -8 -10 7 6 -9 1 9 -2 3 7 -1 4 -2 3 8 \n",
      "5 0 0 -9 4 -2 -1 7 9 -3 -1 1 3 -8 -4 -2 -10 \n",
      "4 -9 -4 1 -2 -8 9 -3 8 -1 -6 8 0 9 0 2 5 \n",
      "Матрица, отсортированная методом турнирной сортировки: \n",
      "-10 -9 -8 -4 -3 -2 -2 -1 -1 0 0 1 3 4 5 7 9 \n",
      "-10 -9 -8 -2 -2 -1 1 3 3 4 6 6 7 7 8 9 9 \n",
      "-9 -8 -6 -4 -3 -2 -1 0 0 1 2 4 5 8 8 9 9 \n",
      "-9 -8 -4 -4 -1 -1 -1 -1 -1 4 5 7 8 8 9 10 10 \n",
      "\n"
     ]
    }
   ],
   "source": [
    "# Турнирная сортировка.\n",
    "from heapq import *\n",
    "MAX_SIZE = 32\n",
    "\n",
    "def merge_sort(one, two):\n",
    "    result = []\n",
    "    while len(one) > 0 and len(two) > 0:\n",
    "        if (two[0] < one[0]):\n",
    "            result.append(two.pop(0))\n",
    "        else:\n",
    "            result.append(one.pop(0))        \n",
    "    length_one = len(one)\n",
    "    length_two = len(two)\n",
    "    \n",
    "    if (length_one == 0 and length_two == 0):\n",
    "        return result\n",
    "    if (length_one > 0):\n",
    "        result += one\n",
    "    else:\n",
    "        result += two               \n",
    "    return result\n",
    "\n",
    "def optimal_tournament_sort(array):\n",
    "    heap = []\n",
    "    for i in array:\n",
    "        heappush(heap, i) # добав. эл. в кучу\n",
    "    for i in range(len(heap)):\n",
    "        array[i] = heappop(heap) # выталкивает и возвращает наименьший элемент\n",
    "    return array\n",
    "\n",
    "def bracketize(array):\n",
    "    heap = []\n",
    "    while len(heap) <= MAX_SIZE:\n",
    "        heappush(heap, array.pop(0)) # добав. эл. в кучу;  получить элемент по индексу удалить его из последовательности\n",
    "    winners = []\n",
    "    losers = []\n",
    "    \n",
    "    while len(array) > 0:\n",
    "        if len(winners) == 0:\n",
    "            winners.append(heappop(heap)) # выталкивает и возвращает наименьший элемент\n",
    "        if array[0] > winners[-1]: # ласт эл.\n",
    "            heappush(heap, array.pop(0))\n",
    "        else:\n",
    "            losers.append(array.pop(0))\n",
    "        if len(heap) > 0:\n",
    "            winners.append(heappop(heap))\n",
    "            \n",
    "    while len(heap) > 0:\n",
    "        winners.append(heappop(heap))\n",
    "    if len(losers) == 0:\n",
    "        return winners\n",
    "    return merge_sort(tournament_sort(losers), winners)\n",
    "\n",
    "\n",
    "def tournament_sort(array):\n",
    "    if (len(array) <= MAX_SIZE):\n",
    "        return optimal_tournament_sort(array) # если мат. небольшая, то упр. вариант\n",
    "    else:\n",
    "        return bracketize(array)\n",
    "    \n",
    "start_time = time.perf_counter()\n",
    "\n",
    "for row in Array_Tournament:\n",
    "    tournament_sort(row)\n",
    "tournament_sort(Array_Tournament)\n",
    "\n",
    "print(\"--- {:.3f} ms ---\".format(((time.perf_counter() - start_time)*1000)))\n",
    "print('Исходная матрица: ')      \n",
    "Output(array)\n",
    "print('Матрица, отсортированная методом турнирной сортировки: ')\n",
    "Output(Array_Tournament)\n",
    "print()"
   ]
  },
  {
   "cell_type": "code",
   "execution_count": 48,
   "id": "f1ac00e7",
   "metadata": {},
   "outputs": [
    {
     "name": "stdout",
     "output_type": "stream",
     "text": [
      "--- 0.154 ms ---\n",
      "Исходная матрица: \n",
      "-1 8 10 4 -9 -1 -8 -1 -4 -1 7 8 10 -4 -1 9 5 \n",
      "9 6 -8 -10 7 6 -9 1 9 -2 3 7 -1 4 -2 3 8 \n",
      "5 0 0 -9 4 -2 -1 7 9 -3 -1 1 3 -8 -4 -2 -10 \n",
      "4 -9 -4 1 -2 -8 9 -3 8 -1 -6 8 0 9 0 2 5 \n",
      "Матрица, отсортированная методом стандартной сортировки: \n",
      "-10 -9 -8 -4 -3 -2 -2 -1 -1 0 0 1 3 4 5 7 9 \n",
      "-10 -9 -8 -2 -2 -1 1 3 3 4 6 6 7 7 8 9 9 \n",
      "-9 -8 -6 -4 -3 -2 -1 0 0 1 2 4 5 8 8 9 9 \n",
      "-9 -8 -4 -4 -1 -1 -1 -1 -1 4 5 7 8 8 9 10 10 \n",
      "\n"
     ]
    }
   ],
   "source": [
    "# Стандартная функция сортировки\n",
    "start_time = time.perf_counter()\n",
    "\n",
    "for row in Array_Standard:\n",
    "    row.sort()\n",
    "Array_Standard.sort()\n",
    "\n",
    "print(\"--- {:.3f} ms ---\".format(((time.perf_counter() - start_time)*1000)))\n",
    "print('Исходная матрица: ')      \n",
    "Output(array)\n",
    "print('Матрица, отсортированная методом стандартной сортировки: ')\n",
    "Output(Array_Standard)\n",
    "print()"
   ]
  },
  {
   "cell_type": "markdown",
   "id": "rental-jerusalem",
   "metadata": {},
   "source": [
    "### Вывод\n",
    "В ходе лабораторной работы были реализованы различные методы сортировки матриц. По итогам было выяснено, что самой эффективной сортировкой (помимо встроенной) является турнирная сортировка. Следущими по временному показателю оказались сортировка вставкой и сортировка по методу Шелла."
   ]
  },
  {
   "cell_type": "code",
   "execution_count": 12,
   "id": "a6538fd7",
   "metadata": {},
   "outputs": [],
   "source": [
    "#--- 0.091 ms ---\n",
    "#--- 0.073 ms ---\n",
    "#--- 0.209 ms ---\n",
    "#--- 0.082 ms ---\n",
    "#--- 0.109 ms ---\n",
    "#--- 0.077 ms ---\n",
    "#--- 0.068 ms ---"
   ]
  }
 ],
 "metadata": {
  "kernelspec": {
   "display_name": "Python 3 (ipykernel)",
   "language": "python",
   "name": "python3"
  },
  "language_info": {
   "codemirror_mode": {
    "name": "ipython",
    "version": 3
   },
   "file_extension": ".py",
   "mimetype": "text/x-python",
   "name": "python",
   "nbconvert_exporter": "python",
   "pygments_lexer": "ipython3",
   "version": "3.10.2"
  }
 },
 "nbformat": 4,
 "nbformat_minor": 5
}
