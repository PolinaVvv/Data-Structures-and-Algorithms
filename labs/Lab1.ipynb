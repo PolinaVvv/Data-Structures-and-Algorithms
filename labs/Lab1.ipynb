{
 "cells": [
  {
   "cell_type": "markdown",
   "id": "fifteen-sailing",
   "metadata": {},
   "source": [
    "# Лабораторная работа №1\n",
    "## Выполнил студентка группы БФИ2001 Вострикова П.В."
   ]
  },
  {
   "cell_type": "markdown",
   "id": "particular-syndicate",
   "metadata": {},
   "source": [
    "### Оглавление\n",
    "1. [Задание 1](#Задание-№1)\n",
    "2. [Задание 2](#Задание-№2)\n",
    "3. [Задание 3](#Задание-№3)\n",
    "4. [Вывод](#Вывод)"
   ]
  },
  {
   "cell_type": "markdown",
   "id": "arctic-stocks",
   "metadata": {},
   "source": [
    "### Задание №1\n",
    "<i> Вызвать функцию print() и передать туда строку Hello, World! </i>"
   ]
  },
  {
   "cell_type": "code",
   "execution_count": 77,
   "id": "caring-truck",
   "metadata": {
    "scrolled": true
   },
   "outputs": [
    {
     "name": "stdout",
     "output_type": "stream",
     "text": [
      "Hello, World!\n"
     ]
    }
   ],
   "source": [
    "print('Hello, World!')"
   ]
  },
  {
   "cell_type": "markdown",
   "id": "maritime-conversation",
   "metadata": {},
   "source": [
    "### Задание №2\n",
    "Написать генератор случайных матриц(многомерных), который принимает\n",
    "опциональные параметры <b>m</b>, <b>n</b>, <b>min_limit</b>, <b>max_limit</b>, где <b>m</b> и <b>n</b> указывают размер\n",
    "матрицы, а <b>min_lim</b> и <b>max_lim</b> - минимальное и максимальное значение для\n",
    "генерируемого числа."
   ]
  },
  {
   "cell_type": "code",
   "execution_count": 89,
   "id": "built-contact",
   "metadata": {},
   "outputs": [],
   "source": [
    "import random\n",
    "import time\n",
    "def Output(array):\n",
    "    for row in array:    # делаем перебор всех строк матрицы A\n",
    "        for elem in row: # перебираем все элементы в строке row\n",
    "            print(elem, end = ' ')\n",
    "        print()\n",
    "    return array"
   ]
  },
  {
   "cell_type": "code",
   "execution_count": 90,
   "id": "alert-charm",
   "metadata": {},
   "outputs": [
    {
     "name": "stdout",
     "output_type": "stream",
     "text": [
      "Введите кол-во сторок матрицы n: 5\n",
      "Введите кол-во столбцов матрицы m: 10\n",
      "Введите минмальное значения для генерируемого числа min_lim: -100\n",
      "Введите максимальное значения для генерируемого числа max_limit: 100\n",
      "Итоговая матрица: \n",
      "75 45 20 -70 45 -40 13 -39 82 4 \n",
      "-30 -79 -78 79 -48 -37 96 8 8 41 \n",
      "-77 66 -60 40 -37 14 96 -69 89 -99 \n",
      "-51 41 23 92 -1 -41 -27 0 0 -7 \n",
      "-47 87 -58 100 -62 -80 -59 29 -48 -96 \n",
      "Итоговая матрица:  [[75, 45, 20, -70, 45, -40, 13, -39, 82, 4], [-30, -79, -78, 79, -48, -37, 96, 8, 8, 41], [-77, 66, -60, 40, -37, 14, 96, -69, 89, -99], [-51, 41, 23, 92, -1, -41, -27, 0, 0, -7], [-47, 87, -58, 100, -62, -80, -59, 29, -48, -96]]\n"
     ]
    }
   ],
   "source": [
    "#ввод значений\n",
    "n = input('Введите кол-во сторок матрицы n: ')\n",
    "if n == '':\n",
    "    n = 50\n",
    "m = input('Введите кол-во столбцов матрицы m: ')\n",
    "if m == '':\n",
    "    m = 50\n",
    "min_lim = input('Введите минмальное значения для генерируемого числа min_lim: ')\n",
    "if min_lim == '':\n",
    "    min_lim = -250\n",
    "max_limit = input('Введите максимальное значения для генерируемого числа max_limit: ')\n",
    "if max_limit == '':\n",
    "    max_limit = 1003\n",
    "\n",
    "#формирование матрицы\n",
    "array  = [ [0]*int(m) for i in range(int(n)) ]\n",
    "for i in range(int(n)):\n",
    "    for j in range(int(m)):\n",
    "        array[i][j] = random.randint(int(min_lim), int(max_limit))\n",
    "        \n",
    "#вывод        \n",
    "print('Итоговая матрица: ')      \n",
    "Output(array)\n",
    "    \n",
    "print('Итоговая матрица: ', array) #вывод матрицы в строчку"
   ]
  },
  {
   "cell_type": "markdown",
   "id": "catholic-roots",
   "metadata": {},
   "source": [
    "### Задание №3\n",
    "Реализовать методы сортировки строк числовой матрицы в соответствии с\n",
    "заданием. Оценить время работы каждого алгоритма сортировки и сравнить его со\n",
    "временем стандартной функции сортировки. Испытания проводить на сгенерированных\n",
    "матрицах."
   ]
  },
  {
   "cell_type": "code",
   "execution_count": 91,
   "id": "opposed-creature",
   "metadata": {},
   "outputs": [],
   "source": [
    "import copy\n",
    "Array_Choice = copy.deepcopy(array)\n",
    "Array_insert = copy.deepcopy(array)\n",
    "Array_exchange = copy.deepcopy(array)\n",
    "Array_Shell = copy.deepcopy(array)\n",
    "Array_Fast = copy.deepcopy(array)\n",
    "Array_Tournament = copy.deepcopy(array)\n",
    "Array_Standard = copy.deepcopy(array)"
   ]
  },
  {
   "cell_type": "code",
   "execution_count": 92,
   "id": "cleared-anniversary",
   "metadata": {},
   "outputs": [
    {
     "name": "stdout",
     "output_type": "stream",
     "text": [
      "--- 0.091 ms ---\n",
      "Исходная матрица: \n",
      "75 45 20 -70 45 -40 13 -39 82 4 \n",
      "-30 -79 -78 79 -48 -37 96 8 8 41 \n",
      "-77 66 -60 40 -37 14 96 -69 89 -99 \n",
      "-51 41 23 92 -1 -41 -27 0 0 -7 \n",
      "-47 87 -58 100 -62 -80 -59 29 -48 -96 \n",
      "Матрица, отсортированная методом выбора: \n",
      "-99 -77 -69 -60 -37 14 40 66 89 96 \n",
      "-96 -80 -62 -59 -58 -48 -47 29 87 100 \n",
      "-79 -78 -48 -37 -30 8 8 41 79 96 \n",
      "-70 -40 -39 4 13 20 45 45 75 82 \n",
      "-51 -41 -27 -7 -1 0 0 23 41 92 \n",
      "\n"
     ]
    }
   ],
   "source": [
    "# Сортировка выбором.\n",
    "# Берётся срез массива, в котором минимальный элемент переносят в самый левый угол,\n",
    "# после чего срез уменьшается и цикл повторяется.\n",
    "def selection_sort(array):\n",
    "    for i in range(len(array) - 1):\n",
    "        index_min = i\n",
    "        j = i + 1\n",
    "        while j < len(array):\n",
    "            if array[j] < array[index_min]:\n",
    "                index_min = j\n",
    "            j = j + 1\n",
    "        array[i], array[index_min] = array[index_min], array[i]\n",
    "    return array\n",
    "\n",
    "start_time = time.perf_counter()\n",
    "\n",
    "for row in Array_Choice:\n",
    "    selection_sort(row)\n",
    "selection_sort(Array_Choice)\n",
    "\n",
    "print(\"--- {:.3f} ms ---\".format(((time.perf_counter() - start_time)*1000)))\n",
    "\n",
    "print('Исходная матрица: ')      \n",
    "Output(array)\n",
    "print('Матрица, отсортированная методом выбора: ')\n",
    "Output(Array_Choice)\n",
    "print()"
   ]
  },
  {
   "cell_type": "code",
   "execution_count": 93,
   "id": "roman-silly",
   "metadata": {
    "scrolled": true
   },
   "outputs": [
    {
     "name": "stdout",
     "output_type": "stream",
     "text": [
      "--- 0.073 ms ---\n",
      "Исходная матрица: \n",
      "75 45 20 -70 45 -40 13 -39 82 4 \n",
      "-30 -79 -78 79 -48 -37 96 8 8 41 \n",
      "-77 66 -60 40 -37 14 96 -69 89 -99 \n",
      "-51 41 23 92 -1 -41 -27 0 0 -7 \n",
      "-47 87 -58 100 -62 -80 -59 29 -48 -96 \n",
      "Матрица, отсортированная методом вставки: \n",
      "-99 -77 -69 -60 -37 14 40 66 89 96 \n",
      "-96 -80 -62 -59 -58 -48 -47 29 87 100 \n",
      "-79 -78 -48 -37 -30 8 8 41 79 96 \n",
      "-70 -40 -39 4 13 20 45 45 75 82 \n",
      "-51 -41 -27 -7 -1 0 0 23 41 92 \n",
      "\n"
     ]
    }
   ],
   "source": [
    "# Сортировка вставкой.\n",
    "# Есть отсортированный массив (изначаьно он содержит первый элемент) и несортированный. Первый эл. в несорт. мас. оценивается \n",
    "# так,что мы можем вставить его на свое место в отсортированном подмассиве. Вставка выполняется путем перемещения всех\n",
    "# элементов которые больше, чем новый элемент, на одну позицию вправо. И так до конца.\n",
    "def insertion_sort(array):\n",
    "    for i in range(1, len(array)):\n",
    "        key = array[i]\n",
    "        j = i-1\n",
    "        while j >= 0 and key < array[j] :\n",
    "            array[j+1] = array[j]\n",
    "            j -= 1\n",
    "        array[j+1] = key \n",
    "    return array\n",
    "    \n",
    "start_time = time.perf_counter()\n",
    "\n",
    "for row in Array_insert:\n",
    "    insertion_sort(row)\n",
    "insertion_sort(Array_insert)\n",
    "\n",
    "print(\"--- {:.3f} ms ---\".format(((time.perf_counter() - start_time)*1000)))\n",
    "print('Исходная матрица: ')      \n",
    "Output(array)\n",
    "print('Матрица, отсортированная методом вставки: ')\n",
    "Output(Array_insert)\n",
    "print()"
   ]
  },
  {
   "cell_type": "code",
   "execution_count": 94,
   "id": "vital-implementation",
   "metadata": {},
   "outputs": [
    {
     "name": "stdout",
     "output_type": "stream",
     "text": [
      "--- 0.209 ms ---\n",
      "Исходная матрица: \n",
      "75 45 20 -70 45 -40 13 -39 82 4 \n",
      "-30 -79 -78 79 -48 -37 96 8 8 41 \n",
      "-77 66 -60 40 -37 14 96 -69 89 -99 \n",
      "-51 41 23 92 -1 -41 -27 0 0 -7 \n",
      "-47 87 -58 100 -62 -80 -59 29 -48 -96 \n",
      "Матрица, отсортированная методом обмена: \n",
      "-99 -77 -69 -60 -37 14 40 66 89 96 \n",
      "-96 -80 -62 -59 -58 -48 -47 29 87 100 \n",
      "-79 -78 -48 -37 -30 8 8 41 79 96 \n",
      "-70 -40 -39 4 13 20 45 45 75 82 \n",
      "-51 -41 -27 -7 -1 0 0 23 41 92 \n",
      "\n"
     ]
    }
   ],
   "source": [
    "# Сортировка обменом. || Сортировка пузырьком.\n",
    "# Сравнивается текущий элемент со следующим. Если он больше, то его вправо, а тот - влево. Это всё в двух циклах: \n",
    "# с помощью первого определяется до какого эл. будет идти второй цикл, а во втором, собственно, уже сама сортировка. \n",
    "def exchange_sort(array):\n",
    "    for i in range(len(array)):\n",
    "        for j in range(0, len(array)-i-1):\n",
    "            if array[j] > array[j+1]:\n",
    "                array[j], array[j+1] = array[j+1], array[j]\n",
    "    return array\n",
    "    \n",
    "start_time = time.perf_counter()\n",
    "\n",
    "for row in Array_exchange:\n",
    "    exchange_sort(row)\n",
    "exchange_sort(Array_exchange)\n",
    "\n",
    "print(\"--- {:.3f} ms ---\".format(((time.perf_counter() - start_time)*1000)))\n",
    "print('Исходная матрица: ')      \n",
    "Output(array)\n",
    "print('Матрица, отсортированная методом обмена: ')\n",
    "Output(Array_exchange) \n",
    "print()"
   ]
  },
  {
   "cell_type": "code",
   "execution_count": 95,
   "id": "veterinary-glory",
   "metadata": {},
   "outputs": [
    {
     "name": "stdout",
     "output_type": "stream",
     "text": [
      "--- 0.082 ms ---\n",
      "Исходная матрица: \n",
      "75 45 20 -70 45 -40 13 -39 82 4 \n",
      "-30 -79 -78 79 -48 -37 96 8 8 41 \n",
      "-77 66 -60 40 -37 14 96 -69 89 -99 \n",
      "-51 41 23 92 -1 -41 -27 0 0 -7 \n",
      "-47 87 -58 100 -62 -80 -59 29 -48 -96 \n",
      "Матрица, отсортированная методом Шелла: \n",
      "-99 -77 -69 -60 -37 14 40 66 89 96 \n",
      "-96 -80 -62 -59 -58 -48 -47 29 87 100 \n",
      "-79 -78 -48 -37 -30 8 8 41 79 96 \n",
      "-70 -40 -39 4 13 20 45 45 75 82 \n",
      "-51 -41 -27 -7 -1 0 0 23 41 92 \n",
      "\n"
     ]
    }
   ],
   "source": [
    "# Сортировка Шелла.\n",
    "# Берутся элементы на некотором расстоянии (len(array) // 2) и сравниваются (меняются местами при необходимости)\n",
    "# Затем это расстоянее уменьшается и всё повторяется\n",
    "def shell_sort(array):\n",
    "    inc = len(array) // 2\n",
    "    while inc:\n",
    "        for i, el in enumerate(array): #с помощью enumerate как-бы словарь получаю\n",
    "            while i >= inc and array[i - inc] > el:\n",
    "                array[i] = array[i - inc]\n",
    "                i -= inc\n",
    "            array[i] = el\n",
    "        inc //= 2\n",
    "    \n",
    "start_time = time.perf_counter()\n",
    "\n",
    "for row in Array_Shell:\n",
    "    shell_sort(row)\n",
    "shell_sort(Array_Shell)\n",
    "\n",
    "print(\"--- {:.3f} ms ---\".format(((time.perf_counter() - start_time)*1000)))\n",
    "print('Исходная матрица: ')      \n",
    "Output(array)\n",
    "print('Матрица, отсортированная методом Шелла: ')\n",
    "Output(Array_Shell)\n",
    "print()"
   ]
  },
  {
   "cell_type": "code",
   "execution_count": 96,
   "id": "correct-chaos",
   "metadata": {},
   "outputs": [
    {
     "name": "stdout",
     "output_type": "stream",
     "text": [
      "--- 0.109 ms ---\n",
      "Исходная матрица: \n",
      "75 45 20 -70 45 -40 13 -39 82 4 \n",
      "-30 -79 -78 79 -48 -37 96 8 8 41 \n",
      "-77 66 -60 40 -37 14 96 -69 89 -99 \n",
      "-51 41 23 92 -1 -41 -27 0 0 -7 \n",
      "-47 87 -58 100 -62 -80 -59 29 -48 -96 \n",
      "Матрица, отсортированная методом быстрой сортировки: \n",
      "75 45 20 -70 45 -40 13 -39 82 4 \n",
      "-30 -79 -78 79 -48 -37 96 8 8 41 \n",
      "-77 66 -60 40 -37 14 96 -69 89 -99 \n",
      "-51 41 23 92 -1 -41 -27 0 0 -7 \n",
      "-47 87 -58 100 -62 -80 -59 29 -48 -96 \n",
      "\n"
     ]
    }
   ],
   "source": [
    "# Быстрая сортировка. Начинается с разбиения списка и выбора одного из элементов в качестве опорного. \n",
    "# А всё остальное передвигаем так, чтобы этот элемент встал на своё место. Все элементы меньше него перемещаются влево, \n",
    "# а равные и большие элементы перемещаются вправо.\n",
    "\n",
    "def quick_sort(array):\n",
    "    if len(array) <= 1:\n",
    "        return array\n",
    "    else:\n",
    "        q = random.choice(array)\n",
    "        smaller = []\n",
    "        equal = []\n",
    "        large = []\n",
    "        for elem in array:\n",
    "            if elem < q:\n",
    "                smaller.append(elem) \n",
    "            elif elem > q: \n",
    "                large.append(elem) \n",
    "            else: \n",
    "                equal.append(elem)\n",
    "        return quick_sort(smaller) + equal + quick_sort(large)\n",
    "      \n",
    "    \n",
    "start_time = time.perf_counter()\n",
    "\n",
    "for row in Array_Fast:\n",
    "    quick_sort(row)\n",
    "quick_sort(Array_Fast)\n",
    "    \n",
    "print(\"--- {:.3f} ms ---\".format(((time.perf_counter() - start_time)*1000)))\n",
    "print('Исходная матрица: ')      \n",
    "Output(array)\n",
    "print('Матрица, отсортированная методом быстрой сортировки: ')\n",
    "Output(Array_Fast)\n",
    "print()"
   ]
  },
  {
   "cell_type": "code",
   "execution_count": 97,
   "id": "french-czech",
   "metadata": {
    "scrolled": true
   },
   "outputs": [
    {
     "name": "stdout",
     "output_type": "stream",
     "text": [
      "--- 0.077 ms ---\n",
      "Исходная матрица: \n",
      "75 45 20 -70 45 -40 13 -39 82 4 \n",
      "-30 -79 -78 79 -48 -37 96 8 8 41 \n",
      "-77 66 -60 40 -37 14 96 -69 89 -99 \n",
      "-51 41 23 92 -1 -41 -27 0 0 -7 \n",
      "-47 87 -58 100 -62 -80 -59 29 -48 -96 \n",
      "Матрица, отсортированная методом турнирной сортировки: \n",
      "-99 -77 -69 -60 -37 14 40 66 89 96 \n",
      "-96 -80 -62 -59 -58 -48 -47 29 87 100 \n",
      "-79 -78 -48 -37 -30 8 8 41 79 96 \n",
      "-70 -40 -39 4 13 20 45 45 75 82 \n",
      "-51 -41 -27 -7 -1 0 0 23 41 92 \n",
      "\n"
     ]
    }
   ],
   "source": [
    "# Турнирная сортировка.\n",
    "from heapq import *\n",
    "MAX_SIZE = 32\n",
    "\n",
    "def merge_sort(one, two):\n",
    "    result = []\n",
    "    while len(one) > 0 and len(two) > 0:\n",
    "        if (two[0] < one[0]):\n",
    "            result.append(two.pop(0))\n",
    "        else:\n",
    "            result.append(one.pop(0))        \n",
    "    length_one = len(one)\n",
    "    length_two = len(two)\n",
    "    \n",
    "    if (length_one == 0 and length_two == 0):\n",
    "        return result\n",
    "    if (length_one > 0):\n",
    "        result += one\n",
    "    else:\n",
    "        result += two               \n",
    "    return result\n",
    "\n",
    "def optimal_tournament_sort(array):\n",
    "    heap = []\n",
    "    for i in array:\n",
    "        heappush(heap, i) # добав. эл. в кучу\n",
    "    for i in range(len(heap)):\n",
    "        array[i] = heappop(heap) # выталкивает и возвращает наименьший элемент\n",
    "    return array\n",
    "\n",
    "def bracketize(array):\n",
    "    heap = []\n",
    "    while len(heap) <= MAX_SIZE:\n",
    "        heappush(heap, array.pop(0)) # добав. эл. в кучу;  получить элемент по индексу удалить его из последовательности\n",
    "    winners = []\n",
    "    losers = []\n",
    "    \n",
    "    while len(array) > 0:\n",
    "        if len(winners) == 0:\n",
    "            winners.append(heappop(heap)) # выталкивает и возвращает наименьший элемент\n",
    "        print(winners[-1])\n",
    "        if array[0] > winners[-1]: # ласт эл.\n",
    "            heappush(heap, array.pop(0))\n",
    "        else:\n",
    "            losers.append(array.pop(0))\n",
    "        if len(heap) > 0:\n",
    "            winners.append(heappop(heap))\n",
    "            \n",
    "    while len(heap) > 0:\n",
    "        winners.append(heappop(heap))\n",
    "    if len(losers) == 0:\n",
    "        return winners\n",
    "    return merge_sort(tournament_sort(losers), winners)\n",
    "\n",
    "def bracketize(values):\n",
    "    heap = []\n",
    "    while len(heap) <= MAX_SIZE:\n",
    "        heappush(heap, values.pop(0))\n",
    "    winners = []\n",
    "    losers = []\n",
    "    \n",
    "    while len(values) > 0:\n",
    "        if len(winners) == 0:\n",
    "            winners.append(heappop(heap))\n",
    "        if values[0] > winners[-1]:\n",
    "            heappush(heap, values.pop(0))\n",
    "        else:\n",
    "            losers.append(values.pop(0))\n",
    "        if len(heap) > 0:\n",
    "            winners.append(heappop(heap))\n",
    "            \n",
    "    while len(heap) > 0:\n",
    "        winners.append(heappop(heap))\n",
    "    if len(losers) == 0:\n",
    "        return winners\n",
    "    return merge_sort(tournament_sort(losers), winners)\n",
    "\n",
    "def tournament_sort(array):\n",
    "    if (len(array) <= MAX_SIZE):\n",
    "        return optimal_tournament_sort(array) # если мат. небольшая, то упр. вариант\n",
    "    else:\n",
    "        return bracketize(array)\n",
    "    \n",
    "start_time = time.perf_counter()\n",
    "\n",
    "for row in Array_Tournament:\n",
    "    tournament_sort(row)\n",
    "tournament_sort(Array_Tournament)\n",
    "\n",
    "print(\"--- {:.3f} ms ---\".format(((time.perf_counter() - start_time)*1000)))\n",
    "print('Исходная матрица: ')      \n",
    "Output(array)\n",
    "print('Матрица, отсортированная методом турнирной сортировки: ')\n",
    "Output(Array_Tournament)\n",
    "print()"
   ]
  },
  {
   "cell_type": "code",
   "execution_count": 102,
   "id": "f1ac00e7",
   "metadata": {},
   "outputs": [
    {
     "name": "stdout",
     "output_type": "stream",
     "text": [
      "--- 0.068 ms ---\n",
      "Исходная матрица: \n",
      "75 45 20 -70 45 -40 13 -39 82 4 \n",
      "-30 -79 -78 79 -48 -37 96 8 8 41 \n",
      "-77 66 -60 40 -37 14 96 -69 89 -99 \n",
      "-51 41 23 92 -1 -41 -27 0 0 -7 \n",
      "-47 87 -58 100 -62 -80 -59 29 -48 -96 \n",
      "Матрица, отсортированная методом стандартной сортировки: \n",
      "-99 -77 -69 -60 -37 14 40 66 89 96 \n",
      "-96 -80 -62 -59 -58 -48 -47 29 87 100 \n",
      "-79 -78 -48 -37 -30 8 8 41 79 96 \n",
      "-70 -40 -39 4 13 20 45 45 75 82 \n",
      "-51 -41 -27 -7 -1 0 0 23 41 92 \n",
      "\n"
     ]
    }
   ],
   "source": [
    "# Стандартная функция сортировки\n",
    "start_time = time.perf_counter()\n",
    "\n",
    "for row in Array_Standard:\n",
    "    row.sort()\n",
    "Array_Standard.sort()\n",
    "\n",
    "print(\"--- {:.3f} ms ---\".format(((time.perf_counter() - start_time)*1000)))\n",
    "print('Исходная матрица: ')      \n",
    "Output(array)\n",
    "print('Матрица, отсортированная методом стандартной сортировки: ')\n",
    "Output(Array_Standard)\n",
    "print()"
   ]
  },
  {
   "cell_type": "markdown",
   "id": "rental-jerusalem",
   "metadata": {},
   "source": [
    "### Вывод\n",
    "В ходе лабораторной работы были реализованы различные методы сортировки матриц. По итогам было выяснено, что самой эффективной сортировкой (помимо встроенной) является турнирная сортировка. Следущими по временному показателю оказались сортировка вставкой и сортировка по методу Шелла."
   ]
  },
  {
   "cell_type": "code",
   "execution_count": 103,
   "id": "a6538fd7",
   "metadata": {},
   "outputs": [],
   "source": [
    "#--- 0.091 ms ---\n",
    "#--- 0.073 ms ---\n",
    "#--- 0.209 ms ---\n",
    "#--- 0.082 ms ---\n",
    "#--- 0.109 ms ---\n",
    "#--- 0.077 ms ---\n",
    "#--- 0.068 ms ---"
   ]
  }
 ],
 "metadata": {
  "kernelspec": {
   "display_name": "Python 3 (ipykernel)",
   "language": "python",
   "name": "python3"
  },
  "language_info": {
   "codemirror_mode": {
    "name": "ipython",
    "version": 3
   },
   "file_extension": ".py",
   "mimetype": "text/x-python",
   "name": "python",
   "nbconvert_exporter": "python",
   "pygments_lexer": "ipython3",
   "version": "3.10.2"
  }
 },
 "nbformat": 4,
 "nbformat_minor": 5
}
