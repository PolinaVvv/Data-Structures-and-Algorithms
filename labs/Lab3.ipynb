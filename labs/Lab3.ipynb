{
 "cells": [
  {
   "cell_type": "markdown",
   "id": "db4b50f0",
   "metadata": {},
   "source": [
    "# Лабораторная работа №3\n",
    "## Выполнила студентка группы БФИ2001 Вострикова Полина Владимировна"
   ]
  },
  {
   "cell_type": "markdown",
   "id": "annual-symbol",
   "metadata": {},
   "source": [
    "### Оглавление\n",
    "1. [Задание 1](#Задание-№1)\n",
    "2. [Задание 2](#Задание-№2)\n",
    "4. [Вывод](#Вывод)"
   ]
  },
  {
   "cell_type": "markdown",
   "id": "independent-spirit",
   "metadata": {},
   "source": [
    "> Дополнительные модули, использованные при выполнение лабораторной"
   ]
  },
  {
   "cell_type": "code",
   "execution_count": 2,
   "id": "4839be2b",
   "metadata": {},
   "outputs": [],
   "source": [
    "# Необходим при замере скорости выполнения кода\n",
    "from datetime import datetime as t\n",
    "# Нужен для создания словаря в алг. Бойера-Мура\n",
    "from collections import defaultdict"
   ]
  },
  {
   "cell_type": "markdown",
   "id": "inclusive-motorcycle",
   "metadata": {},
   "source": [
    "### Задание №1\n",
    "Реализовать методы поиска подстроки в строке. Добавить возможность ввода строки и подстроки с клавиатуры. Предусмотреть возможность существования пробела. Реализовать возможность выбора опции чувствительности или нечувствительности к регистру. Оценить время работы каждого алгоритма поиска и сравнить его со временем работы стандартной функции поиска, используемой в выбранном языке программирования."
   ]
  },
  {
   "cell_type": "markdown",
   "id": "interracial-communication",
   "metadata": {},
   "source": [
    "#### Алгоритм Кнута-Морриса-Пратта"
   ]
  },
  {
   "cell_type": "code",
   "execution_count": 6,
   "id": "presidential-level",
   "metadata": {},
   "outputs": [
    {
     "name": "stdout",
     "output_type": "stream",
     "text": [
      "Введите строку: В самом дешевом номерке меблированных комнат «Лиссабон» из угла в угол ходил студент-медик 3-го курса, Степан Клочков, и усердно зубрил свою медицину.\n",
      "Введите подстроку (строку, которую необходимо найти): из\n",
      "Должен ли быть учтён регистр при поиске? (да/нет): нет\n",
      "Результат поиска: 56\n",
      "Duration: 0:00:00.001000\n"
     ]
    }
   ],
   "source": [
    "# Префикс-функция\n",
    "def prefix_function(string):\n",
    "    func = [0] * len(string)\n",
    "    for i in range(1, len(string)):\n",
    "        j = func[i-1]\n",
    "        while j > 0 and string[j] != string[i]: # пока не пришли к началу \n",
    "            j = func[j-1] # значение, стоящее в предыдущей ячейке\n",
    "        if string[i] == string[j]:\n",
    "            j += 1\n",
    "        func[i] = j\n",
    "    return func\n",
    "\n",
    "# Алгоритм Кнута-Морриса-Пратта\n",
    "def kmp_search(string, sub_string, register):\n",
    "    if register:\n",
    "        string = string.lower()\n",
    "        sub_string = sub_string.lower()\n",
    "    \n",
    "    j = 0 # индексы подстроки\n",
    "    pi = prefix_function(sub_string)\n",
    "    for i in range(len(string)):\n",
    "        while j > 0 and string[i] != sub_string[j]: # если j-ый эл не равено i-му, то мы откатываем j назад и снова проверяем его с начала, а i продолжаем \n",
    "            j = pi[j-1]\n",
    "        if string[i] == sub_string[j]:\n",
    "            j += 1\n",
    "        if j >= len(sub_string):\n",
    "            return i - j + 1\n",
    "    return None\n",
    "\n",
    "string = input('Введите строку: ')\n",
    "sub_string = input('Введите подстроку (строку, которую необходимо найти): ')\n",
    "buffer = input('Должен ли быть учтён регистр при поиске? (да/нет): ')\n",
    "register = True \n",
    "if (buffer == \"да\") | (buffer == \"Да\"):\n",
    "    register = False\n",
    "\n",
    "start_time = t.now() \n",
    "print(\"Результат поиска:\", kmp_search(string, sub_string, register))\n",
    "end_time = t.now()\n",
    "print('Duration: {}'.format(end_time - start_time))"
   ]
  },
  {
   "cell_type": "markdown",
   "id": "downtown-option",
   "metadata": {},
   "source": [
    "#### Упрощенный алгоритм Бойера-Мура"
   ]
  },
  {
   "cell_type": "code",
   "execution_count": 3,
   "id": "respective-reggae",
   "metadata": {},
   "outputs": [
    {
     "name": "stdout",
     "output_type": "stream",
     "text": [
      "Введите строку: В самом дешевом номерке меблированных комнат «Лиссабон» из угла в угол ходил студент-медик 3-го курса, Степан Клочков, и усердно зубрил свою медицину.\n",
      "Введите подстроку (строку, которую необходимо найти): из\n",
      "Должен ли быть учтён регистр при поиске? (да/нет): нет\n",
      "Результат поиска: 56\n",
      "Duration: 0:00:00.001003\n"
     ]
    }
   ],
   "source": [
    "# формирование таблицы смещений\n",
    "def offset_table(string):\n",
    "    table = dict() # словарь\n",
    "    length = len(string)\n",
    "    for i in range(length - 1):\n",
    "        table[string[i]] = length - i - 1\n",
    "    if not string[length - 1] in table:\n",
    "        table[string[length - 1]] = length\n",
    "    return table\n",
    "\n",
    "#Упрощенный Бойера-Мура\n",
    "def boyer_mur_search(string, sub_string, register):\n",
    "    if register:\n",
    "        string = string.lower()\n",
    "        sub_string = sub_string.lower()\n",
    "\n",
    "    table = offset_table(sub_string)\n",
    "    sub_length = len(sub_string)\n",
    "    current_step = sub_length - 1 #счетчик проверяемого символа в строке\n",
    "\n",
    "    while current_step < len(string):  # основной цикл для поиска подстроки\n",
    "        s_sought_i = sub_length - 1 \n",
    "        for i in range(current_step, current_step - sub_length, -1): # от конца к началу\n",
    "            if string[i] != sub_string[s_sought_i]: # проверка последнего символа подстроки и символа в строке \n",
    "                if string[i] in table:\n",
    "                    step = table[string[i]]\n",
    "                else:\n",
    "                    step = sub_length\n",
    "                break\n",
    "\n",
    "            if i == current_step - sub_length + 1:  # если конец\n",
    "                return i\n",
    "            s_sought_i -= 1\n",
    "\n",
    "        current_step += step  # двигаем место поиска на шаг\n",
    "\n",
    "        \n",
    "string = input('Введите строку: ')\n",
    "sub_string = input('Введите подстроку (строку, которую необходимо найти): ')\n",
    "buffer = input('Должен ли быть учтён регистр при поиске? (да/нет): ')\n",
    "register = True \n",
    "if (buffer == \"да\") | (buffer == \"Да\"):\n",
    "    register = False\n",
    "\n",
    "start_time = t.now() \n",
    "print(\"Результат поиска:\", boyer_mur_search(string, sub_string, register))\n",
    "end_time = t.now()\n",
    "print('Duration: {}'.format(end_time - start_time))"
   ]
  },
  {
   "cell_type": "markdown",
   "id": "101a8f55",
   "metadata": {},
   "source": [
    "### Стандартная функция поиска"
   ]
  },
  {
   "cell_type": "code",
   "execution_count": 3,
   "id": "7e3b40bc",
   "metadata": {},
   "outputs": [
    {
     "name": "stdout",
     "output_type": "stream",
     "text": [
      "Введите строку: В самом дешевом номерке меблированных комнат «Лиссабон» из угла в угол ходил студент-медик 3-го курса, Степан Клочков, и усердно зубрил свою медицину.\n",
      "Введите подстроку (строку, которую необходимо найти): из\n",
      "Должен ли быть учтён регистр при поиске? (да/нет): нет\n",
      "Результат поиска: 56\n",
      "Duration: 0:00:00.000999\n"
     ]
    }
   ],
   "source": [
    "string = input('Введите строку: ')\n",
    "sub_string = input('Введите подстроку (строку, которую необходимо найти): ')\n",
    "buffer = input('Должен ли быть учтён регистр при поиске? (да/нет): ')\n",
    "\n",
    "if buffer == 'нет':\n",
    "    string = string.lower()\n",
    "    sub_string = sub_string.lower()\n",
    "\n",
    "start_time = t.now() \n",
    "print(\"Результат поиска:\", string.find(sub_string))\n",
    "end_time = t.now()\n",
    "print('Duration: {}'.format(end_time - start_time))"
   ]
  },
  {
   "cell_type": "markdown",
   "id": "hybrid-memorial",
   "metadata": {},
   "source": [
    "### Задание №2\n",
    "Написать программу, определяющую, является ли данное\n",
    "расположение «решаемым», то есть можно ли из него за конечное число\n",
    "шагов перейти к правильному. Если это возможно, то необходимо найти хотя\n",
    "бы одно решение - последовательность движений, после которой числа будут\n",
    "расположены в правильном порядке.\n",
    "#### Входные данные: массив чисел, представляющий собой расстановку в\n",
    "Порядке «слева направо, сверху вниз». Число 0 обозначает пустое поле.\n",
    "Например, массив [1, 2, 3, 4, 5, 6, 7, 8, 9, 10, 11, 12, 13, 14, 15, 0] представляет\n",
    "собой «решенную» позицию элементов.\n",
    "#### Выходные данные: если решения нет, то функция должна вернуть\n",
    "Пустой массив []. Если решение есть, то необходимо представить решение —\n",
    "для каждого шага записывается номер передвигаемого на данном шаге\n",
    "элемента. "
   ]
  },
  {
   "cell_type": "code",
   "execution_count": 5,
   "id": "eleven-generic",
   "metadata": {},
   "outputs": [
    {
     "name": "stdout",
     "output_type": "stream",
     "text": [
      "  5  1  3  4\n",
      "  2  6  7  8\n",
      "  9 10 11 12\n",
      " 13 14 15  0\n",
      "\n",
      "[15, 14, 10, 6, 2, 5, 1, 2, 6, 10, 14, 15]\n"
     ]
    }
   ],
   "source": [
    "from queue import PriorityQueue\n",
    "\n",
    "N = 4\n",
    "\n",
    "# Функция, определяющая движение пятнашек\n",
    "def moves(position):\n",
    "    blank = position.index(0) \n",
    "    i, j = divmod(blank, N) \n",
    "    offsets = []\n",
    "    if i > 0: offsets.append(-N)     # движение вниз\n",
    "    if i < N - 1: offsets.append(N)  # движение вверх\n",
    "    if j > 0: offsets.append(-1)     # движение вправо\n",
    "    if j < N - 1: offsets.append(1)  # движение влево\n",
    "    for offset in offsets:\n",
    "        swap = blank + offset\n",
    "        yield tuple(position[swap] if x==blank else position[blank] if x==swap else position[x] for x in range(N*N))\n",
    "\n",
    "# Функция, определяющая есть ли у пятнашек конечное решение\n",
    "def parity(permutation):\n",
    "    seen, cycles = set(), 0 # уникальные не повторяющиеся элементы\n",
    "    for i in permutation:\n",
    "        if i not in seen:\n",
    "            cycles += 1\n",
    "            while i not in seen:\n",
    "                seen.add(i)\n",
    "                i = permutation[i]\n",
    "    return (cycles + len(permutation)) % 2\n",
    "\n",
    "\n",
    "class Position:\n",
    "    # Функция, принимающая позицию и начальную дистанцию\n",
    "    def __init__(self, position, start_distance):\n",
    "        self.position = position\n",
    "        self.start_distance = start_distance\n",
    "\n",
    "    # Функция, срабатывающая при сравнении (<) объекта с другим объектом\n",
    "    def __lt__(self, other):\n",
    "        return self.start_distance < other.start_distance\n",
    "    \n",
    "    # Функция, срабатывающая при использовании объекта как строки\n",
    "    def __str__(self):\n",
    "        return '\\n'.join((N*'{:3}').format(*[i%(N*N) for i in self.position[i:]]) for i in range(0, N*N, N))\n",
    "\n",
    "SOLVED = (1, 2, 3, 4, 5, 6, 7, 8, 9, 10, 11, 12, 13, 14, 15, 0)\n",
    "start = [5, 1, 3, 4, 2, 6, 7, 8, 9, 10, 11, 12, 13, 14, 15, 0]\n",
    "\n",
    "if parity(start) == 0:\n",
    "    print('Задачу решить нельзя')\n",
    "else:\n",
    "    start = tuple(start) \n",
    "    p = Position(start, 0) \n",
    "    print(p) \n",
    "    print()\n",
    "\n",
    "    candidates = PriorityQueue() # конструктор для очереди с приоритетом\n",
    "    candidates.put(p)\n",
    "\n",
    "    # посещ. поз.\n",
    "    visited = set([p])\n",
    "\n",
    "    came_from = {p.position: None} # словарь \n",
    "    \n",
    "    while p.position != SOLVED:\n",
    "        # Извлекаем из очереди позицию с наименьшим приоритетом\n",
    "        p = candidates.get()\n",
    "        # Кладем в очередь все соседние позиции. Повторяем не вытащим конечную позицию из очереди\n",
    "        for k in moves(p.position):\n",
    "            if k not in visited:\n",
    "                candidates.put(Position(k, p.start_distance + 1))\n",
    "                came_from[k] = p\n",
    "                visited.add(k)\n",
    "\n",
    "    path = []\n",
    "    prev = p\n",
    "    while p.position != start:\n",
    "        # Запоминаем откуда ход\n",
    "        p = came_from[p.position]\n",
    "        number = p.position[prev.position.index(0)]\n",
    "        path.append(number)\n",
    "        prev = p\n",
    "    path.reverse()\n",
    "\n",
    "    print(path)"
   ]
  },
  {
   "cell_type": "markdown",
   "id": "arbitrary-amazon",
   "metadata": {},
   "source": [
    "### Вывод"
   ]
  },
  {
   "cell_type": "markdown",
   "id": "71bc58bf",
   "metadata": {},
   "source": [
    "В ходе лабораторной работы были реализованы различные методы поиска подстроки в строке, а также было реализовано решение игры \"Пятнашки\". По итогам было выяснено, что самым эффективным методом поиска является стандартная функция поиска, после неё по временому показателю оказался алгоритм Кнута-Морриса-Пратта, а затем - Упрощенный алгоритм Бойера-Мура. "
   ]
  }
 ],
 "metadata": {
  "kernelspec": {
   "display_name": "Python 3 (ipykernel)",
   "language": "python",
   "name": "python3"
  },
  "language_info": {
   "codemirror_mode": {
    "name": "ipython",
    "version": 3
   },
   "file_extension": ".py",
   "mimetype": "text/x-python",
   "name": "python",
   "nbconvert_exporter": "python",
   "pygments_lexer": "ipython3",
   "version": "3.10.2"
  }
 },
 "nbformat": 4,
 "nbformat_minor": 5
}
