{
 "cells": [
  {
   "cell_type": "markdown",
   "id": "fifteen-sailing",
   "metadata": {},
   "source": [
    "# Лабораторная работа №4\n",
    "## Выполнил студентка группы БФИ2001 Вострикова Полина Владимировна"
   ]
  },
  {
   "cell_type": "markdown",
   "id": "arctic-stocks",
   "metadata": {},
   "source": [
    "Реализовать следующие структуры данных:\n",
    "  \n",
    "● <b> Стек (stack): </b>  \n",
    "Операции для стека: \n",
    "<i> инициализация, проверка на пустоту, добавление нового элемента в начало, извлечение элемента из начала;  </i>  \n",
    "  \n",
    "● <b> Дек (двусторонняя очередь, deque):  </b>  \n",
    "Операции для дека: \n",
    "<i> инициализация, проверка на пустоту, добавление нового элемента в начало, добавление нового элемента в конец, извлечение элемента из начала, извлечение элемента из конца. </i>  \n",
    "  \n",
    "<i> Разработать программу обработки данных, содержащихся в заранее подготовленном txt-файле, в соответствии с заданиями, применив указанную в задании структуру данных. Результат работы программы вывести на экран и сохранить в отдельном txt-файле. </i>"
   ]
  },
  {
   "cell_type": "code",
   "execution_count": 1,
   "id": "25098914",
   "metadata": {},
   "outputs": [],
   "source": [
    "# стек\n",
    "class Stack: \n",
    "    def __init__(self): # конструктор класса\n",
    "        self.items = []\n",
    "    \n",
    "    def empty(self): # проверка на пустоту стека\n",
    "        return self.items == []\n",
    "    \n",
    "    def push(self, item): # добавление в вершину стека элемента\n",
    "        self.items.append(item)\n",
    "        \n",
    "    def pop(self): # возврат и удаление вехрнего эл. из стека\n",
    "        return self.items.pop()\n",
    "    \n",
    "    def pop_without_delete(self): # возврат верхнего эл. без удаления\n",
    "        return self.items[len(self.items) - 1]\n",
    "    \n",
    "    def size(self): # кол-во элементов в стеке\n",
    "        return len(self.items)"
   ]
  },
  {
   "cell_type": "code",
   "execution_count": 2,
   "id": "f922549d",
   "metadata": {},
   "outputs": [],
   "source": [
    "# дек\n",
    "class Deque:\n",
    "    def __init__(self):\n",
    "        self.items = []\n",
    "    \n",
    "    def pushRight(self, item): # добавить справа\n",
    "        self.items.append(item)\n",
    "        \n",
    "    def pushLeft(self, item): # добавить слева\n",
    "        self.items.insert(0, item)\n",
    "    \n",
    "    def popRight(self): # удалить справа\n",
    "        return self.items.pop()\n",
    "    \n",
    "    def popLeft(self): # удалить слева\n",
    "        return self.items.pop(0)\n",
    "    \n",
    "    def popRight_without_delete(self): # возврат правого эл. без удаления\n",
    "        return self.items[len(self.items) - 1]\n",
    "    \n",
    "    def popLeft_without_delete(self): # возврат левого эл. без удаления\n",
    "        return self.items[0]\n",
    "    \n",
    "    def empty(self): # проверка на пустоту стека\n",
    "        return self.items == []\n",
    "    \n",
    "    def size(self): # кол-во элементов в стеке\n",
    "        return len(self.items)"
   ]
  },
  {
   "cell_type": "markdown",
   "id": "5d7edb08",
   "metadata": {
    "scrolled": true
   },
   "source": [
    "### Задание №1\n",
    "Отсортировать строки файла, содержащие названия книг, в алфавитном порядке с использованием двух деков."
   ]
  },
  {
   "cell_type": "code",
   "execution_count": 3,
   "id": "17702ade",
   "metadata": {},
   "outputs": [
    {
     "name": "stdout",
     "output_type": "stream",
     "text": [
      "Анна Каренина\n",
      "\n",
      "Божественная комедия\n",
      "\n",
      "Война и мир\n",
      "\n",
      "Гамлет\n",
      "\n",
      "Гордость и предубеждение\n",
      "\n",
      "Звук и ярость\n",
      "\n",
      "Илиада\n",
      "\n",
      "Кентерберийские рассказы\n",
      "\n",
      "Лолита\n",
      "\n",
      "На маяк\n",
      "\n",
      "Одиссея\n",
      "\n",
      "Путешествия Гулливера\n",
      "\n",
      "Улис\n",
      "\n",
      "Унесенные ветром\n",
      "\n",
      "Человек-невидимка\n",
      "\n"
     ]
    }
   ],
   "source": [
    "def alphabet_order(txt):\n",
    "    with open(txt, 'r', encoding = 'utf-8') as books:\n",
    "        d1 = Deque()\n",
    "        d2 = Deque()\n",
    "        for el in books:\n",
    "            d1.pushRight(el)\n",
    "        while not d1.empty():\n",
    "            element = d1.popRight()\n",
    "            while not d2.empty() and d2.popRight_without_delete() > element:\n",
    "                d1.pushLeft(d2.popRight())\n",
    "            d2.pushRight(element)\n",
    "        while not d2.empty():\n",
    "            print(d2.popLeft())\n",
    "            \n",
    "alphabet_order('ex1,8.txt')"
   ]
  },
  {
   "cell_type": "markdown",
   "id": "49fbd2a0",
   "metadata": {},
   "source": [
    "### Задание №2\n",
    "Дек содержит последовательность символов для шифровки сообщений. Дан текстовый файл, содержащий зашифрованное сообщение. Пользуясь деком, расшифровать текст. \n",
    "Известно, что при шифровке каждый символ сообщения заменялся следующим за ним в деке по часовой стрелке через один."
   ]
  },
  {
   "cell_type": "code",
   "execution_count": 4,
   "id": "81cab7a8",
   "metadata": {},
   "outputs": [
    {
     "name": "stdout",
     "output_type": "stream",
     "text": [
      "Зашифрованное сообщение: васфум\\'цыц'оуры!\n",
      "Расшифрованное сообщение: привет! как дела?\n"
     ]
    }
   ],
   "source": [
    "def decoder(txt): \n",
    "    x = list('qwertyuiopasdfghjklzxcvbnmйцукенгшщзхъфывапролджэячсмитьбю0192837465.,/\\|!&?@#$%^*([{}])-_=+\\'` ~;№/\\\"')\n",
    "    d = Deque()\n",
    "    for el in x:\n",
    "        d.pushRight(el)\n",
    "    \n",
    "    with open(txt, 'r', encoding = 'utf-8') as books1:\n",
    "        books = books1.readline()\n",
    "        books = list(books)\n",
    "        books2 = \"\".join(books)\n",
    "        print(\"Зашифрованное сообщение:\", books2)\n",
    "        \n",
    "        for i in range(len(books)):\n",
    "            for j in range(d.size()):\n",
    "                element = d.popRight()\n",
    "                if element == books[i]:\n",
    "                    d.pushRight(element)\n",
    "                    d.pushRight(d.popLeft())\n",
    "                    element = d.popLeft()\n",
    "                    books[i] = element\n",
    "                d.pushLeft(element)\n",
    "        books = \"\".join(books)\n",
    "        print(\"Расшифрованное сообщение:\", books)\n",
    "\n",
    "decoder('ex2.txt')"
   ]
  },
  {
   "cell_type": "markdown",
   "id": "c0894f47",
   "metadata": {},
   "source": [
    "### Задание №3\n",
    "Даны три стержня и n дисков различного размера. Диски можно надевать на стержни, образуя из них башни. Перенести n дисков со стержня А на стержень С, сохранив их первоначальный порядок. При переносе дисков необходимо соблюдать следующие правила:\n",
    "- на каждом шаге со стержня на стержень переносить только один диск;\n",
    "- диск нельзя помещать на диск меньшего размера;\n",
    "- для промежуточного хранения можно использовать стержень В.\n",
    "Реализовать алгоритм, используя три стека вместо стержней А, В, С. Информация о дисках хранится в исходном файле."
   ]
  },
  {
   "cell_type": "code",
   "execution_count": 5,
   "id": "9e91a9d4",
   "metadata": {},
   "outputs": [
    {
     "name": "stdout",
     "output_type": "stream",
     "text": [
      "1\n",
      "2\n",
      "3\n",
      "4\n",
      "5\n",
      "6\n",
      "7\n",
      "8\n"
     ]
    }
   ],
   "source": [
    "def permutation(a, b):\n",
    "    if a.size() == 0 and b.size() > 0:\n",
    "        a.push(b.pop())\n",
    "    elif a.size() > 0 and b.size() == 0:\n",
    "        b.push(a.pop())\n",
    "    elif a.pop_without_delete() > b.pop_without_delete():\n",
    "        a.push(b.pop())\n",
    "    else:\n",
    "        b.push(a.pop())\n",
    "\n",
    "def Hanoi(n):\n",
    "    A = Stack()\n",
    "    B = Stack()\n",
    "    C = Stack()\n",
    "    for i in range(n, 0, -1): # \"надели\" все диски на А\n",
    "        A.push(i)\n",
    "\n",
    "    if n % 2 == 0: \n",
    "        while C.size() != n:\n",
    "            permutation(A, B)\n",
    "            permutation(A, C)\n",
    "            permutation(B, C)\n",
    "    else:\n",
    "        while C.size() != n:\n",
    "            permutation(A, C)\n",
    "            permutation(A, B)\n",
    "            permutation(B, C)\n",
    "\n",
    "    while not C.empty():\n",
    "        print(C.pop())\n",
    "\n",
    "Hanoi(8)"
   ]
  },
  {
   "cell_type": "markdown",
   "id": "e5b0be17",
   "metadata": {},
   "source": [
    "### Задание №4\n",
    "Дан текстовый файл с программой на алгоритмическом языке. За один просмотр файла проверить баланс круглых скобок в тексте, используя стек."
   ]
  },
  {
   "cell_type": "code",
   "execution_count": 6,
   "id": "5b1df60a",
   "metadata": {},
   "outputs": [
    {
     "name": "stdout",
     "output_type": "stream",
     "text": [
      "True\n",
      "False\n"
     ]
    }
   ],
   "source": [
    "def round_brackets(txt):\n",
    "    with open(txt) as books:\n",
    "        s = Stack()\n",
    "        books1 = books.readline()\n",
    "        for element in books1:\n",
    "            if element == '(':\n",
    "                s.push(element)\n",
    "            elif element == ')':\n",
    "                if s.empty(): return False\n",
    "                s.pop()\n",
    "        return s.empty()\n",
    "\n",
    "print(round_brackets('ex4(true).txt'))\n",
    "print(round_brackets('ex4(false).txt'))"
   ]
  },
  {
   "cell_type": "markdown",
   "id": "c44cdd6b",
   "metadata": {},
   "source": [
    "### Задание №5\n",
    "Дан текстовый файл с программой на алгоритмическом языке. За один просмотр файла проверить баланс квадратных скобок в тексте, используя дек."
   ]
  },
  {
   "cell_type": "code",
   "execution_count": 7,
   "id": "36b8f400",
   "metadata": {},
   "outputs": [
    {
     "name": "stdout",
     "output_type": "stream",
     "text": [
      "True\n",
      "False\n"
     ]
    }
   ],
   "source": [
    "def square_brackets(txt):\n",
    "    with open(txt) as books:\n",
    "        d = Deque()\n",
    "        books1 = books.readline()\n",
    "        for element in books1:\n",
    "            if element == '[':\n",
    "                d.pushRight(element)\n",
    "            elif element == ']':\n",
    "                if d.empty(): return False\n",
    "                d.popRight()\n",
    "        return d.empty()\n",
    "\n",
    "print(square_brackets('ex5(true).txt'))\n",
    "print(square_brackets('ex5(false).txt'))"
   ]
  },
  {
   "cell_type": "markdown",
   "id": "59d13dc7",
   "metadata": {},
   "source": [
    "### Задание №6\n",
    "Дан файл из символов. Используя стек, за один просмотр файла напечатать сначала все цифры, затем все буквы, и, наконец, все остальные символы, сохраняя исходный порядок в каждой группе символов."
   ]
  },
  {
   "cell_type": "code",
   "execution_count": 8,
   "id": "297e36c2",
   "metadata": {},
   "outputs": [
    {
     "name": "stdout",
     "output_type": "stream",
     "text": [
      "1\n",
      "2\n",
      "3\n",
      "4\n",
      "5\n",
      "6\n",
      "7\n",
      "H\n",
      "e\n",
      "l\n",
      "l\n",
      "o\n",
      "m\n",
      "y\n",
      "f\n",
      "r\n",
      "i\n",
      "e\n",
      "n\n",
      "d\n",
      "\"\n",
      " \n",
      " \n",
      "!\n",
      "\"\n"
     ]
    }
   ],
   "source": [
    "def character_output(txt):\n",
    "    with open(txt, 'r', encoding = 'utf-8') as books:\n",
    "        ALL = Stack()\n",
    "        numbers = Stack()\n",
    "        letters = Stack()\n",
    "        others = Stack()\n",
    "        books1 = books.readline()\n",
    "        for element in books1:\n",
    "            if element.isalpha():\n",
    "                letters.push(element)\n",
    "            elif element.isdigit():\n",
    "                numbers.push(element)\n",
    "            else:\n",
    "                others.push(element)\n",
    "        \n",
    "        while not others.empty():\n",
    "            ALL.push(others.pop())\n",
    "        while not letters.empty():\n",
    "            ALL.push(letters.pop())\n",
    "        while not numbers.empty():\n",
    "            ALL.push(numbers.pop())\n",
    "            \n",
    "        while not ALL.empty():\n",
    "            print(ALL.pop())\n",
    "            \n",
    "character_output('ex6.txt')"
   ]
  },
  {
   "cell_type": "markdown",
   "id": "973f68bd",
   "metadata": {},
   "source": [
    "### Задание №7\n",
    "Дан файл из целых чисел. Используя дек, за один просмотр файла напечатать сначала все отрицательные числа, затем все положительные числа, сохраняя исходный порядок в каждой группе."
   ]
  },
  {
   "cell_type": "code",
   "execution_count": 9,
   "id": "c56fad66",
   "metadata": {},
   "outputs": [
    {
     "name": "stdout",
     "output_type": "stream",
     "text": [
      "-32\n",
      "\n",
      "-1\n",
      "\n",
      "-221\n",
      "\n",
      "-321\n",
      "\n",
      "-234\n",
      "\n",
      "-4\n",
      "\n",
      "-3\n",
      "\n",
      "-52\n",
      "\n",
      " 221\n",
      "\n",
      " 3\n",
      "\n",
      " 213\n",
      "\n",
      " 1\n",
      "\n",
      " 2\n",
      "\n",
      " 2\n",
      "\n",
      " 4\n",
      "\n",
      " 3\n",
      "\n",
      " 12\n",
      "\n",
      " 124\n",
      "\n",
      " 12\n",
      "\n",
      " 54\n"
     ]
    }
   ],
   "source": [
    "def output_of_numbers(txt):\n",
    "    with open(txt, 'r', encoding = 'utf-8') as books:\n",
    "        d = Deque()\n",
    "        x = []\n",
    "        for element in books:\n",
    "            d.pushLeft(element)\n",
    "        for i in range (d.size()):\n",
    "            if (int)(d.popRight_without_delete()) < 0:\n",
    "                print(d.popRight())\n",
    "            else: \n",
    "                x.append((int)(d.popRight()))\n",
    "        for i in x:\n",
    "            print(\"\\n\", i)\n",
    "\n",
    "output_of_numbers('ex7.txt')"
   ]
  },
  {
   "cell_type": "markdown",
   "id": "b9228191",
   "metadata": {},
   "source": [
    "### Задание №8\n",
    "Дан текстовый файл. Используя стек, сформировать новый текстовый файл, содержащий строки исходного файла, записанные в обратном порядке: первая строка становится последней, вторая – предпоследней и т.д."
   ]
  },
  {
   "cell_type": "code",
   "execution_count": 10,
   "id": "981fbdfe",
   "metadata": {},
   "outputs": [
    {
     "name": "stdout",
     "output_type": "stream",
     "text": [
      "Гамлет\n",
      "\n",
      "Анна Каренина\n",
      "\n",
      "Унесенные ветром\n",
      "\n",
      "Путешествия Гулливера\n",
      "\n",
      "Кентерберийские рассказы\n",
      "\n",
      "Божественная комедия\n",
      "\n",
      "Гордость и предубеждение\n",
      "\n",
      "Одиссея\n",
      "\n",
      "Илиада\n",
      "\n",
      "На маяк\n",
      "\n",
      "Человек-невидимка\n",
      "\n",
      "Звук и ярость\n",
      "\n",
      "Лолита\n",
      "\n",
      "Улис\n",
      "\n",
      "Война и мир\n",
      "\n"
     ]
    }
   ],
   "source": [
    "def reverse_order(txt):\n",
    "    with open(txt, 'r', encoding = 'utf-8') as books:\n",
    "        s = Stack()\n",
    "        for element in books:\n",
    "            s.push(element)\n",
    "        books2 = open('ex8new.txt', 'w+')\n",
    "        for i in range (s.size()):\n",
    "            print(s.pop_without_delete())\n",
    "            books2.write(s.pop())\n",
    "        books2.close()\n",
    "\n",
    "reverse_order('ex1,8.txt')"
   ]
  },
  {
   "cell_type": "markdown",
   "id": "rental-jerusalem",
   "metadata": {},
   "source": [
    "### Вывод\n"
   ]
  },
  {
   "cell_type": "markdown",
   "id": "0c2b8899",
   "metadata": {},
   "source": [
    "Вывод: в ходе лабораторной работы я освоила такие структуры данных, как стек и дек. Научилась применять их в решение задач."
   ]
  }
 ],
 "metadata": {
  "kernelspec": {
   "display_name": "Python 3 (ipykernel)",
   "language": "python",
   "name": "python3"
  },
  "language_info": {
   "codemirror_mode": {
    "name": "ipython",
    "version": 3
   },
   "file_extension": ".py",
   "mimetype": "text/x-python",
   "name": "python",
   "nbconvert_exporter": "python",
   "pygments_lexer": "ipython3",
   "version": "3.10.2"
  }
 },
 "nbformat": 4,
 "nbformat_minor": 5
}
